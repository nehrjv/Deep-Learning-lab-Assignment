{
 "cells": [
  {
   "cell_type": "markdown",
   "metadata": {},
   "source": [
    "# QUESTION NUMBER-1"
   ]
  },
  {
   "cell_type": "markdown",
   "metadata": {},
   "source": [
    "https://github.com/nehrjv/Deep-Learning-lab-Assignment/tree/main"
   ]
  },
  {
   "cell_type": "code",
   "execution_count": 1,
   "metadata": {},
   "outputs": [
    {
     "name": "stdout",
     "output_type": "stream",
     "text": [
      "Training input values without Bias\n",
      " ([1, 2, 3], [4, 5, 6], [7, 8, 9])\n"
     ]
    }
   ],
   "source": [
    "import numpy as np\n",
    "\n",
    "values=([1,2,3],\n",
    "[4,5,6],\n",
    "[7,8,9])\n",
    "\n",
    "print(\"Training input values without Bias\\n\", values)"
   ]
  },
  {
   "cell_type": "code",
   "execution_count": 2,
   "metadata": {},
   "outputs": [
    {
     "name": "stdout",
     "output_type": "stream",
     "text": [
      "Training input values with bias in it\n",
      " [[-1  1  2  3]\n",
      " [-1  4  5  6]\n",
      " [-1  7  8  9]]\n"
     ]
    }
   ],
   "source": [
    "test2 = [[-1]] * len(values)\n",
    "values = np.concatenate((test2, values), axis = 1)  \n",
    "print(\"Training input values with bias in it\\n\",values)"
   ]
  },
  {
   "cell_type": "code",
   "execution_count": 3,
   "metadata": {},
   "outputs": [
    {
     "name": "stdout",
     "output_type": "stream",
     "text": [
      "Initial random weights\n",
      " [[-0.43004574]\n",
      " [-0.46543448]\n",
      " [-0.46582643]\n",
      " [-0.4729125 ]]\n"
     ]
    }
   ],
   "source": [
    "m=4     #number of elements in each row of inputs\n",
    "n=1 \n",
    "weights = np.random.rand(m,n)*0.1 - 0.5\n",
    "print(\"Initial random weights\\n\",weights)"
   ]
  },
  {
   "cell_type": "code",
   "execution_count": 4,
   "metadata": {},
   "outputs": [
    {
     "name": "stdout",
     "output_type": "stream",
     "text": [
      "Training data target values are\n",
      " [[0], [1], [1]]\n"
     ]
    }
   ],
   "source": [
    "final = ([[0],[1],[1]])\n",
    "print(\"Training data target values are\\n\", final)"
   ]
  },
  {
   "cell_type": "code",
   "execution_count": 5,
   "metadata": {},
   "outputs": [],
   "source": [
    "def updateWeights(weights, inputs, activation, targets):\n",
    "    eta = 0.25\n",
    "    weights += eta*np.dot(np.transpose(inputs), targets - activation)\n",
    "    return weights"
   ]
  },
  {
   "cell_type": "code",
   "execution_count": 6,
   "metadata": {},
   "outputs": [],
   "source": [
    "def  prediction (inputs, weights, targets):\n",
    "    #representing Activation function with 'ack [[]]' variable\n",
    "    ack = [[0]] * len(inputs)\n",
    "    for i in range(0, len(inputs)):    \n",
    "        for j in range(0,len(weights)):\n",
    "            ack[i] += inputs[i][j] * weights[j]\n",
    "        ack[i] = np.where(ack[i]>0, 1, 0)\n",
    "        #checking values with target\n",
    "        if(targets[i] != ack[i]):\n",
    "            weights = updateWeights(weights, inputs, ack[i], targets)\n",
    "        print(ack[i])\n",
    "    return weights"
   ]
  },
  {
   "cell_type": "code",
   "execution_count": 7,
   "metadata": {},
   "outputs": [
    {
     "name": "stdout",
     "output_type": "stream",
     "text": [
      "\n",
      "Iteration  1 \n",
      "\n",
      "[0]\n",
      "[0]\n",
      "[1]\n",
      "\n",
      "Iteration  2 \n",
      "\n",
      "[1]\n",
      "[1]\n",
      "[1]\n",
      "\n",
      "Iteration  3 \n",
      "\n",
      "[1]\n",
      "[1]\n",
      "[1]\n",
      "\n",
      "Iteration  4 \n",
      "\n",
      "[1]\n",
      "[1]\n",
      "[1]\n",
      "\n",
      "Trained Weights\n",
      " [[-0.18004574]\n",
      " [ 1.53456552]\n",
      " [ 1.28417357]\n",
      " [ 1.0270875 ]]\n"
     ]
    }
   ],
   "source": [
    "iterations = 4\n",
    "for temp in range(0, iterations):\n",
    "    print(\"\\nIteration \",temp+1,\"\\n\")\n",
    "    weights = prediction(values, weights, final)\n",
    "    \n",
    "print(\"\\nTrained Weights\\n\", weights)"
   ]
  },
  {
   "cell_type": "code",
   "execution_count": 8,
   "metadata": {},
   "outputs": [
    {
     "name": "stdout",
     "output_type": "stream",
     "text": [
      "[1]\n"
     ]
    }
   ],
   "source": [
    "def perceptronPredict(weights, newInput):\n",
    "    activation = np.dot(newInput, weights)\n",
    "    activation = np.where(activation>0, 1, 0)\n",
    "    print(activation)\n",
    "\n",
    "\n",
    "newInput = ([-1.0, 4,7,8])\n",
    "perceptronPredict(weights, newInput)"
   ]
  },
  {
   "cell_type": "code",
   "execution_count": null,
   "metadata": {},
   "outputs": [],
   "source": []
  }
 ],
 "metadata": {
  "kernelspec": {
   "display_name": "Python 3",
   "language": "python",
   "name": "python3"
  },
  "language_info": {
   "codemirror_mode": {
    "name": "ipython",
    "version": 3
   },
   "file_extension": ".py",
   "mimetype": "text/x-python",
   "name": "python",
   "nbconvert_exporter": "python",
   "pygments_lexer": "ipython3",
   "version": "3.8.5"
  }
 },
 "nbformat": 4,
 "nbformat_minor": 4
}
